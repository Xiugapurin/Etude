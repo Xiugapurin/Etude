{
 "cells": [
  {
   "cell_type": "code",
   "execution_count": null,
   "id": "0f288e58",
   "metadata": {},
   "outputs": [],
   "source": [
    "import json\n",
    "import pretty_midi\n",
    "from midi_player import MIDIPlayer\n",
    "from midi_player.stylers import basic\n",
    "\n",
    "def json_to_midi(notes, output_path):\n",
    "    midi = pretty_midi.PrettyMIDI()\n",
    "    instrument = pretty_midi.Instrument(program=0)\n",
    "\n",
    "    for note in notes:\n",
    "        instrument.notes.append(\n",
    "            pretty_midi.Note(\n",
    "                velocity=note[\"velocity\"],\n",
    "                pitch=note[\"pitch\"],\n",
    "                start=note[\"onset\"],\n",
    "                end=note[\"offset\"],\n",
    "            )\n",
    "        )\n",
    "    midi.instruments.append(instrument)\n",
    "    midi.write(output_path)\n",
    "\n",
    "extract_json = \"./outputs/inference/temp/extract.json\"\n",
    "extract_mid = \"./outputs/inference/temp/extract.mid\"\n",
    "decode_mid = \"./outputs/inference/output.mid\"\n",
    "\n",
    "with open(extract_json, \"r\") as f:\n",
    "    notes = json.load(f)\n",
    "\n",
    "json_to_midi(notes, extract_mid)\n",
    "\n",
    "MIDIPlayer(url_or_file=extract_mid, height=600, styler=basic, title='My Player')\n",
    "MIDIPlayer(url_or_file=decode_mid, height=600, styler=basic, title='My Player')"
   ]
  }
 ],
 "metadata": {
  "kernelspec": {
   "display_name": ".venv",
   "language": "python",
   "name": "python3"
  },
  "language_info": {
   "codemirror_mode": {
    "name": "ipython",
    "version": 3
   },
   "file_extension": ".py",
   "mimetype": "text/x-python",
   "name": "python",
   "nbconvert_exporter": "python",
   "pygments_lexer": "ipython3",
   "version": "3.10.12"
  }
 },
 "nbformat": 4,
 "nbformat_minor": 5
}
