{
 "cells": [
  {
   "cell_type": "code",
   "execution_count": null,
   "id": "0f288e58",
   "metadata": {},
   "outputs": [],
   "source": [
    "import json\n",
    "import pretty_midi\n",
    "from midi_player import MIDIPlayer\n",
    "from midi_player.stylers import basic\n",
    "\n",
    "extract_json = \"./outputs/inference/temp/extract.json\"\n",
    "extract_mid = \"./outputs/inference/temp/extract.mid\"\n",
    "decode_mid = \"./outputs/inference/output.mid\"\n",
    "\n",
    "def json_to_midi(notes, output_path):\n",
    "    midi = pretty_midi.PrettyMIDI()\n",
    "    instrument = pretty_midi.Instrument(program=0)\n",
    "\n",
    "    for note in notes:\n",
    "        instrument.notes.append(\n",
    "            pretty_midi.Note(\n",
    "                velocity=note[\"velocity\"],\n",
    "                pitch=note[\"pitch\"],\n",
    "                start=note[\"onset\"],\n",
    "                end=note[\"offset\"],\n",
    "            )\n",
    "        )\n",
    "    midi.instruments.append(instrument)\n",
    "    midi.write(output_path)\n",
    "\n",
    "with open(extract_json, \"r\") as f:\n",
    "    notes = json.load(f)\n",
    "\n",
    "json_to_midi(notes, extract_mid)\n",
    "\n",
    "MIDIPlayer(url_or_file=extract_mid, height=600, styler=basic, title='My Player')\n",
    "MIDIPlayer(url_or_file=decode_mid, height=600, styler=basic, title='My Player')"
   ]
  },
  {
   "cell_type": "code",
   "execution_count": null,
   "id": "5eb05668",
   "metadata": {},
   "outputs": [],
   "source": [
    "from utils.midi_tool import midi_to_wav, align_and_play_stereo, json_to_midi\n",
    "\n",
    "target_dir = \"0018\"\n",
    "sound_font_path = \"./utils/sound_font/SGM-v2.01.sf2\"\n",
    "\n",
    "cover_json = f\"./dataset/aligned/{target_dir}/cover.json\"\n",
    "cover_mid = f\"./dataset/aligned/{target_dir}/cover.mid\"\n",
    "cover_wav = f\"./dataset/aligned/{target_dir}/cover.wav\"\n",
    "\n",
    "extract_json = f\"./dataset/aligned/{target_dir}/extract.json\"\n",
    "extract_mid = f\"./dataset/aligned/{target_dir}/extract.mid\"\n",
    "extract_wav = f\"./dataset/aligned/{target_dir}/extract.wav\"\n",
    "\n",
    "origin_wav = f\"./dataset/raw/{target_dir}/origin.wav\"\n",
    "output_wav = f\"./output.wav\"\n",
    "\n",
    "json_to_midi(cover_json, cover_mid)\n",
    "midi_to_wav(cover_mid, cover_wav, sound_font_path)\n",
    "\n",
    "json_to_midi(extract_json, extract_mid)\n",
    "midi_to_wav(extract_mid, extract_wav, sound_font_path)\n",
    "\n",
    "align_and_play_stereo(cover_wav, origin_wav, output_wav)"
   ]
  }
 ],
 "metadata": {
  "kernelspec": {
   "display_name": ".venv",
   "language": "python",
   "name": "python3"
  },
  "language_info": {
   "codemirror_mode": {
    "name": "ipython",
    "version": 3
   },
   "file_extension": ".py",
   "mimetype": "text/x-python",
   "name": "python",
   "nbconvert_exporter": "python",
   "pygments_lexer": "ipython3",
   "version": "3.10.12"
  }
 },
 "nbformat": 4,
 "nbformat_minor": 5
}
