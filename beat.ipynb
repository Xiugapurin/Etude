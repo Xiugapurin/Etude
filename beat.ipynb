{
 "cells": [
  {
   "cell_type": "code",
   "execution_count": null,
   "metadata": {},
   "outputs": [],
   "source": [
    "import os\n",
    "import json\n",
    "from corpus.generate_tempo import generate_tempo_info, play_audio_with_clicks\n",
    "\n",
    "base_folder = \"../../dataset/0000/18\"\n",
    "beat_pred_file = os.path.join(base_folder, \"beat_pred.json\")\n",
    "beat_pred_output_file = os.path.join(base_folder, \"beats.json\")\n",
    "wav_file = os.path.join(base_folder, \"origin.wav\")\n",
    "\n",
    "def load_json(filename):\n",
    "    with open(filename, 'r', encoding='utf-8') as f:\n",
    "        return json.load(f)\n",
    "\n",
    "generate_tempo_info(base_folder)\n",
    "\n",
    "original_data = load_json(beat_pred_file)\n",
    "new_data = load_json(beat_pred_output_file)\n",
    "\n",
    "print(\"播放原始 beat_pred.json 的 click 音效：\")\n",
    "audio_player_original = play_audio_with_clicks(wav_file, original_data)\n",
    "display(audio_player_original)\n",
    "\n",
    "print(\"播放轉換後 beats.json 的 click 音效：\")\n",
    "audio_player_new = play_audio_with_clicks(wav_file, new_data)\n",
    "display(audio_player_new)"
   ]
  },
  {
   "cell_type": "code",
   "execution_count": null,
   "metadata": {},
   "outputs": [],
   "source": [
    "import os\n",
    "import json\n",
    "from corpus.tempo import TempoInfoGenerator\n",
    "\n",
    "base_folder = \"../../dataset/0000/18\"\n",
    "beat_pred_file = os.path.join(base_folder, \"beat_pred.json\")\n",
    "beat_pred_output_file = os.path.join(base_folder, \"beats.json\")\n",
    "tempo_pred_output_file = os.path.join(base_folder, \"tempo.json\")\n",
    "wav_file = os.path.join(base_folder, \"origin.wav\")\n",
    "\n",
    "tg = TempoInfoGenerator(beat_pred_file, verbose=True)\n",
    "\n",
    "def load_json(filename):\n",
    "    with open(filename, 'r', encoding='utf-8') as f:\n",
    "        return json.load(f)\n",
    "\n",
    "tg.generate_tempo_info(tempo_pred_output_file, beat_pred_output_file)\n",
    "\n",
    "original_data = load_json(beat_pred_file)\n",
    "new_data = load_json(beat_pred_output_file)\n",
    "\n",
    "print(\"播放原始 beat_pred.json 的 click 音效：\")\n",
    "audio_player_original = tg.play_audio_with_clicks(wav_file, original_data)\n",
    "display(audio_player_original)\n",
    "\n",
    "print(\"播放轉換後 beats.json 的 click 音效：\")\n",
    "audio_player_new = tg.play_audio_with_clicks(wav_file, new_data)\n",
    "display(audio_player_new)"
   ]
  },
  {
   "cell_type": "code",
   "execution_count": null,
   "metadata": {},
   "outputs": [],
   "source": [
    "import os\n",
    "import json\n",
    "from utils.midi_tool import get_midi_audio, json_to_midi\n",
    "from corpus.generate_tempo import play_audio_with_clicks\n",
    "\n",
    "base_folder = \"./dataset/synced/ACKY_藤井風 - きらり/\"\n",
    "json_file_extract = os.path.join(base_folder, \"extract.json\")\n",
    "json_file_origin = os.path.join(base_folder, \"cover.json\")\n",
    "midi_file = \"test.midi\"\n",
    "\n",
    "json_to_midi(json_file_extract, midi_file)\n",
    "# json_to_midi(json_file_origin, midi_file)\n",
    "\n",
    "beat_pred = os.path.join(base_folder, \"beats.json\")\n",
    "wav_file = \"test.wav\"\n",
    "\n",
    "def load_json(filename):\n",
    "    with open(filename, 'r', encoding='utf-8') as f:\n",
    "        return json.load(f)\n",
    "    \n",
    "get_midi_audio(midi_file, wav_file)\n",
    "\n",
    "beat_data = load_json(beat_pred)\n",
    "\n",
    "audio_player = play_audio_with_clicks(wav_file, beat_data)\n",
    "display(audio_player)"
   ]
  },
  {
   "cell_type": "code",
   "execution_count": null,
   "metadata": {},
   "outputs": [],
   "source": [
    "import os\n",
    "from utils.midi_tool import json_to_midi, get_midi_player\n",
    "\n",
    "base_folder = \"./dataset/synced/ACKY_藤井風 - きらり/\"\n",
    "json_file_extract = os.path.join(base_folder, \"extract.json\")\n",
    "json_file_origin = os.path.join(base_folder, \"cover.json\")\n",
    "midi_file = \"test.midi\"\n",
    "\n",
    "# json_to_midi(json_file_extract, midi_file)\n",
    "json_to_midi(json_file_origin, midi_file)\n",
    "\n",
    "get_midi_player(midi_file)"
   ]
  }
 ],
 "metadata": {
  "kernelspec": {
   "display_name": ".venv",
   "language": "python",
   "name": "python3"
  },
  "language_info": {
   "codemirror_mode": {
    "name": "ipython",
    "version": 3
   },
   "file_extension": ".py",
   "mimetype": "text/x-python",
   "name": "python",
   "nbconvert_exporter": "python",
   "pygments_lexer": "ipython3",
   "version": "3.10.12"
  }
 },
 "nbformat": 4,
 "nbformat_minor": 2
}
