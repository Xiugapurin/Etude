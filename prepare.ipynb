{
 "cells": [
  {
   "cell_type": "code",
   "execution_count": null,
   "id": "b40cdc1a",
   "metadata": {},
   "outputs": [],
   "source": [
    "import os\n",
    "from typing import List\n",
    "from tqdm import tqdm\n",
    "from corpus import extract\n",
    "\n",
    "def batch_extract(root_dir: str, path_model: str) -> None:\n",
    "    tasks: List[str] = []\n",
    "    for dirpath, _, filenames in os.walk(root_dir):\n",
    "        if 'origin.wav' in filenames and 'extract.json' not in filenames:\n",
    "            tasks.append(dirpath)\n",
    "\n",
    "    for dirpath in tqdm(tasks, desc=\"Processing origin.wav\", unit=\"folder\"):\n",
    "        path_input = os.path.join(dirpath, 'origin.wav')\n",
    "        path_output_json = os.path.join(dirpath, 'extract.json')\n",
    "        extract(path_input, path_output_json, \"\", path_model)\n",
    "\n",
    "ROOT = \"dataset/synced/\"\n",
    "MODEL = \"checkpoint/extractor/15.pth\"\n",
    "batch_extract(ROOT, MODEL)"
   ]
  },
  {
   "cell_type": "code",
   "execution_count": null,
   "id": "7f20b87e",
   "metadata": {},
   "outputs": [],
   "source": [
    "import os\n",
    "from typing import List\n",
    "from tqdm import tqdm\n",
    "from corpus.tempo import TempoInfoGenerator\n",
    "\n",
    "def batch_generate_tempo(root_dir: str) -> None:\n",
    "    tasks: List[str] = []\n",
    "    for dirpath, _, filenames in os.walk(root_dir):\n",
    "        if 'beat_pred.json' in filenames and 'tempo.json' not in filenames:\n",
    "            tasks.append(dirpath)\n",
    "\n",
    "    for dirpath in tqdm(tasks, desc=\"Generating tempo info\", unit=\"folder\"):\n",
    "        path_beat_pred   = os.path.join(dirpath, \"beat_pred.json\")\n",
    "        path_tempo_output= os.path.join(dirpath, \"tempo.json\")\n",
    "\n",
    "        tg = TempoInfoGenerator(path_beat_pred, verbose=False)\n",
    "        tg.generate_tempo_info(path_tempo_output)\n",
    "\n",
    "\n",
    "ROOT_DIR = \"dataset/valid/\"\n",
    "batch_generate_tempo(ROOT_DIR)"
   ]
  },
  {
   "cell_type": "code",
   "execution_count": null,
   "id": "b35243b8",
   "metadata": {},
   "outputs": [],
   "source": [
    "from corpus import extract\n",
    "\n",
    "extract(\"origin.wav\", \"extract.json\", \"extract.mid\", \"checkpoint/extractor/9.pth\")"
   ]
  },
  {
   "cell_type": "code",
   "execution_count": null,
   "id": "92e67943",
   "metadata": {},
   "outputs": [],
   "source": [
    "from utils.midi_tool import json_to_midi\n",
    "\n",
    "json_to_midi(\"extract.json\", \"extract.mid\")"
   ]
  },
  {
   "cell_type": "code",
   "execution_count": null,
   "id": "a81465c6",
   "metadata": {},
   "outputs": [],
   "source": [
    "from midi_player import MIDIPlayer\n",
    "from midi_player.stylers import basic\n",
    "\n",
    "midi_file = \"extract.mid\"\n",
    "\n",
    "MIDIPlayer(url_or_file=midi_file, height=600, styler=basic, title='My Player')"
   ]
  }
 ],
 "metadata": {
  "kernelspec": {
   "display_name": ".venv",
   "language": "python",
   "name": "python3"
  },
  "language_info": {
   "codemirror_mode": {
    "name": "ipython",
    "version": 3
   },
   "file_extension": ".py",
   "mimetype": "text/x-python",
   "name": "python",
   "nbconvert_exporter": "python",
   "pygments_lexer": "ipython3",
   "version": "3.10.12"
  }
 },
 "nbformat": 4,
 "nbformat_minor": 5
}
